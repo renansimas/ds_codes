{
  "nbformat": 4,
  "nbformat_minor": 0,
  "metadata": {
    "colab": {
      "name": "Cópia de 2nd_Assignment.ipynb",
      "provenance": [],
      "collapsed_sections": [],
      "include_colab_link": true
    },
    "kernelspec": {
      "name": "python3",
      "display_name": "Python 3"
    }
  },
  "cells": [
    {
      "cell_type": "markdown",
      "metadata": {
        "id": "view-in-github",
        "colab_type": "text"
      },
      "source": [
        "<a href=\"https://colab.research.google.com/github/renansimas/ds_codes/blob/master/C%C3%B3pia_de_2nd_Assignment.ipynb\" target=\"_parent\"><img src=\"https://colab.research.google.com/assets/colab-badge.svg\" alt=\"Open In Colab\"/></a>"
      ]
    },
    {
      "cell_type": "markdown",
      "metadata": {
        "id": "EluRo1fC7YSm",
        "colab_type": "text"
      },
      "source": [
        "## Second list of exercises"
      ]
    },
    {
      "cell_type": "markdown",
      "metadata": {
        "id": "T586rDGKGiEb",
        "colab_type": "text"
      },
      "source": [
        "1) Use list comprehension to create a list that:\n",
        "\n",
        "- a) Given a list of strings, contains the length of them.\n",
        "\n",
        "- b) Contains all the cubes of the multiples of 17 in a range from 1 to 1000.\n",
        "\n",
        "- c) Contains all the numbers from 1 to 100 that starts with 4 or 5 and are even numbers.\n",
        "\n",
        "- d) Contains all the numbers from 1 to 1000 that have the digit 3 in them.\n",
        "\n",
        "- e) Given a list of strings, transform to upper if the first letter is a vowel and invert the string otherwise.\n",
        "\n",
        "       For example, ['apple', 'orange', 'watermelon'] -> ['APPLE','ORANGE', 'nolemretaw']"
      ]
    },
    {
      "cell_type": "code",
      "metadata": {
        "id": "331mOupiIh7r",
        "colab_type": "code",
        "colab": {
          "base_uri": "https://localhost:8080/",
          "height": 35
        },
        "outputId": "2fd9cc8b-7434-43d7-b64d-9d7d09e9a5ba"
      },
      "source": [
        "# a) Given a list of strings, contains the length of them.\n",
        "\n",
        "nome=['renan', 'pina', 'simas', 'pereira']\n",
        "\n",
        "contagem=[len(i) for i in nome ]\n",
        "\n",
        "contagem"
      ],
      "execution_count": null,
      "outputs": [
        {
          "output_type": "execute_result",
          "data": {
            "text/plain": [
              "[5, 4, 5, 7]"
            ]
          },
          "metadata": {
            "tags": []
          },
          "execution_count": 2
        }
      ]
    },
    {
      "cell_type": "code",
      "metadata": {
        "id": "1rFEcEKIMKU3",
        "colab_type": "code",
        "colab": {}
      },
      "source": [
        "# b) Contains all the cubes of the multiples of 17 in a range from 1 to 1000.\n",
        "\n",
        "cubos=[element**3 for element in range(1000)if element%17==0] \n",
        "\n",
        "cubos"
      ],
      "execution_count": null,
      "outputs": []
    },
    {
      "cell_type": "code",
      "metadata": {
        "id": "Hg5w9oT5NIPJ",
        "colab_type": "code",
        "colab": {
          "base_uri": "https://localhost:8080/",
          "height": 35
        },
        "outputId": "c1fd0e4d-8172-4f2e-8ded-5587487065fa"
      },
      "source": [
        "# c) Contains all the numbers from 1 to 100 that starts with 4 or 5 and are even numbers.\n",
        "\n",
        "pares =[i for i in range(1,100) if i%2==0 and (i//10==4 or i//10==5) or i==4]\n",
        "\n",
        "pares"
      ],
      "execution_count": null,
      "outputs": [
        {
          "output_type": "execute_result",
          "data": {
            "text/plain": [
              "[4, 40, 42, 44, 46, 48, 50, 52, 54, 56, 58]"
            ]
          },
          "metadata": {
            "tags": []
          },
          "execution_count": 13
        }
      ]
    },
    {
      "cell_type": "code",
      "metadata": {
        "id": "JSzD6_k-Q9g3",
        "colab_type": "code",
        "colab": {}
      },
      "source": [
        "# d) Contains all the numbers from 1 to 1000 that have the digit 3 in them.\n",
        "\n",
        "digito3={i for i in range(1000) if (i-3)%10==0 or i//100==3 or (i-(i//100)*100)//10==3}\n",
        "\n",
        "digito3"
      ],
      "execution_count": null,
      "outputs": []
    },
    {
      "cell_type": "code",
      "metadata": {
        "id": "mYVXN6y-S7h5",
        "colab_type": "code",
        "colab": {
          "base_uri": "https://localhost:8080/",
          "height": 35
        },
        "outputId": "ced187ad-7397-4a55-c4fe-656d1482f4bb"
      },
      "source": [
        "# e) Given a list of strings, transform to upper if the first letter is a vowel and invert the string otherwise.\n",
        "\n",
        "lista=(['renan', 'aeaçlaçlaç', 'pina','uruau'])\n",
        "\n",
        "palavras=[i.upper() if i.lower().startswith(('a','e','i','o','u')) else i[-1::-1] for i in lista]\n",
        "\n",
        "palavras"
      ],
      "execution_count": null,
      "outputs": [
        {
          "output_type": "execute_result",
          "data": {
            "text/plain": [
              "['naner', 'AEAÇLAÇLAÇ', 'anip', 'URUAU']"
            ]
          },
          "metadata": {
            "tags": []
          },
          "execution_count": 46
        }
      ]
    },
    {
      "cell_type": "markdown",
      "metadata": {
        "id": "X73tSdOdHJNN",
        "colab_type": "text"
      },
      "source": [
        "\n",
        "\n",
        "\n",
        "\n",
        "2) Write function that takes a list with two numbers in it and determines if the sum of the digits of the two numbers are equal to each other."
      ]
    },
    {
      "cell_type": "code",
      "metadata": {
        "id": "Yg4a7ZJlFB7n",
        "colab_type": "code",
        "colab": {}
      },
      "source": [
        "def final (num):\n",
        "  i=num\n",
        "  digitos=[]\n",
        "  while i//10!=0:\n",
        "    a=i%10\n",
        "    digitos.append(a)\n",
        "    i=int((i-a)/10)\n",
        "  digitos.append(i)\n",
        "  #return digitos\n",
        "  return sum(digitos)\n",
        "\n",
        "def comparar (num1, num2):\n",
        "  if final(num1)==final(num2):\n",
        "    print('Os números tem a mesma soma de dígitos')\n",
        "  else:\n",
        "    print('Os números tem a soma de dígitos diferentes')  "
      ],
      "execution_count": null,
      "outputs": []
    },
    {
      "cell_type": "code",
      "metadata": {
        "id": "Jx34qB1OGPqH",
        "colab_type": "code",
        "colab": {
          "base_uri": "https://localhost:8080/",
          "height": 35
        },
        "outputId": "bdf2ac9c-04ca-4d95-ed95-c9c3f6767c00"
      },
      "source": [
        "comparar (456,1111524)"
      ],
      "execution_count": null,
      "outputs": [
        {
          "output_type": "stream",
          "text": [
            "Os números tem a mesma soma de dígitos\n"
          ],
          "name": "stdout"
        }
      ]
    },
    {
      "cell_type": "markdown",
      "metadata": {
        "id": "am_e92rCHNJ-",
        "colab_type": "text"
      },
      "source": [
        "3) Among all the numbers that are made from the product of two 3-digit numbers:\n",
        "\n",
        "- a) How many are odd numbers?\n",
        "\n",
        "- b) How many starts with the digit-8 and ends with digit-9\n",
        "\n",
        "- c) How many are palindromes?"
      ]
    },
    {
      "cell_type": "code",
      "metadata": {
        "id": "YoKp3z27DsQG",
        "colab_type": "code",
        "colab": {
          "base_uri": "https://localhost:8080/",
          "height": 72
        },
        "outputId": "3d103619-1428-4b7c-ca13-3478999bd635"
      },
      "source": [
        "produtos=[i*j for i in range(100,1000) for j in range(100,1000)]\n",
        "impar=[i for i in produtos if i%2!=0]\n",
        "digitos=[i for i in produtos if (i-9)%10==0 and (int(str(i)[-1::-1])-8)%10==0]\n",
        "palindromos=[i for i in produtos if str(i)[-1::-1]==str(i)]\n",
        "\n",
        "print(f'A quantidade de números ímpares é {len(impar)}')\n",
        "print(f'A quantidade de números que começam com 8 e terminam com 9 é {len(digitos)}')\n",
        "print(f'A quantidade de palíndromos é {len(palindromos)}')"
      ],
      "execution_count": null,
      "outputs": [
        {
          "output_type": "stream",
          "text": [
            "A quantidade de números ímpares é 202500\n",
            "A quantidade de números que começam com 8 e terminam com 9 é 1503\n",
            "A quantidade de palíndromos é 2470\n"
          ],
          "name": "stdout"
        }
      ]
    },
    {
      "cell_type": "markdown",
      "metadata": {
        "id": "IJ5A3ICXT56U",
        "colab_type": "text"
      },
      "source": [
        "4) Use functional programming to:"
      ]
    },
    {
      "cell_type": "markdown",
      "metadata": {
        "id": "CQjX0itUV28B",
        "colab_type": "text"
      },
      "source": [
        "- a) Filter the indexes with positive changes in the dictionary 'stock_indexes'. \n"
      ]
    },
    {
      "cell_type": "code",
      "metadata": {
        "id": "x3nUtcLmWNso",
        "colab_type": "code",
        "colab": {}
      },
      "source": [
        "stock_indexes = {'FTSE 100':-0.3, 'DAX': -1.65, 'Dow Jones': -1.1, 'Ibovespa':0.2, 'S&P':0.65}"
      ],
      "execution_count": null,
      "outputs": []
    },
    {
      "cell_type": "code",
      "metadata": {
        "id": "hVfrhkpLj0_j",
        "colab_type": "code",
        "colab": {}
      },
      "source": [
        "def positivo(**kwargs):\n",
        "  \n",
        "  for value in kwargs.items():\n",
        "    if value <0 :\n",
        "      print('ok')\n",
        "    else:\n",
        "      print('deu erro')"
      ],
      "execution_count": null,
      "outputs": []
    },
    {
      "cell_type": "code",
      "metadata": {
        "id": "wwACmsvjkpet",
        "colab_type": "code",
        "colab": {}
      },
      "source": [
        "positivo(stock_indexes)"
      ],
      "execution_count": null,
      "outputs": []
    },
    {
      "cell_type": "markdown",
      "metadata": {
        "id": "sWzE6gJLWjW3",
        "colab_type": "text"
      },
      "source": [
        "- b) Apply a function that generates a list with the types of each element of the list 'elements'"
      ]
    },
    {
      "cell_type": "code",
      "metadata": {
        "id": "lHyUqNnMX3D2",
        "colab_type": "code",
        "colab": {}
      },
      "source": [
        "elements = [1,'economics', 9.8, 2 + 3j, ['a','b','c'], stock_indexes]"
      ],
      "execution_count": null,
      "outputs": []
    },
    {
      "cell_type": "code",
      "metadata": {
        "id": "LuWtE8BoF0iB",
        "colab_type": "code",
        "colab": {
          "base_uri": "https://localhost:8080/",
          "height": 35
        },
        "outputId": "3d9069bb-643f-40eb-d842-37174a590ddb"
      },
      "source": [
        "tipos=[type(i) for i in elements ]\n",
        "\n",
        "tipos"
      ],
      "execution_count": null,
      "outputs": [
        {
          "output_type": "execute_result",
          "data": {
            "text/plain": [
              "[int, str, float, complex, list, dict]"
            ]
          },
          "metadata": {
            "tags": []
          },
          "execution_count": 22
        }
      ]
    },
    {
      "cell_type": "markdown",
      "metadata": {
        "id": "_gW12Ti2YM1J",
        "colab_type": "text"
      },
      "source": [
        "- c) Transform a list of lists in a flat list\n",
        "    \n",
        "       For example, [[1,2,4],[10,12,14],[1,2]] -> [1,2,4,10,12,14,1,2]"
      ]
    },
    {
      "cell_type": "code",
      "metadata": {
        "id": "aL7f3W3NAU9y",
        "colab_type": "code",
        "colab": {
          "base_uri": "https://localhost:8080/",
          "height": 35
        },
        "outputId": "665ad8a0-66b5-41ee-abcf-e2005a8fa282"
      },
      "source": [
        "lista=[[1,2,4],[10,12,14],[1,2]]\n",
        "\n",
        "flat=[i for i in lista if type(i)==list]\n",
        "\n",
        "flat"
      ],
      "execution_count": null,
      "outputs": [
        {
          "output_type": "execute_result",
          "data": {
            "text/plain": [
              "[[1, 2, 4], [10, 12, 14], [1, 2]]"
            ]
          },
          "metadata": {
            "tags": []
          },
          "execution_count": 3
        }
      ]
    }
  ]
}